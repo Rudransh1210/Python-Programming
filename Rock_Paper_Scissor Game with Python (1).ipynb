{
 "cells": [
  {
   "cell_type": "code",
   "execution_count": 1,
   "id": "18bb05fb",
   "metadata": {},
   "outputs": [
    {
     "name": "stdout",
     "output_type": "stream",
     "text": [
      "Player one,enter your choice rock\n",
      "Player one,enter your choice paper\n",
      "plyaer one,enter the secret bit position5\n",
      "player two,enter the secret bit position7\n"
     ]
    },
    {
     "ename": "IndexError",
     "evalue": "string index out of range",
     "output_type": "error",
     "traceback": [
      "\u001b[1;31m---------------------------------------------------------------------------\u001b[0m",
      "\u001b[1;31mIndexError\u001b[0m                                Traceback (most recent call last)",
      "\u001b[1;32m~\\AppData\\Local\\Temp\\ipykernel_9660\\1080115274.py\u001b[0m in \u001b[0;36m<module>\u001b[1;34m\u001b[0m\n\u001b[0;32m     29\u001b[0m     \u001b[0mbit1\u001b[0m\u001b[1;33m=\u001b[0m\u001b[0mint\u001b[0m\u001b[1;33m(\u001b[0m\u001b[0minput\u001b[0m\u001b[1;33m(\u001b[0m\u001b[1;34m\"plyaer one,enter the secret bit position\"\u001b[0m\u001b[1;33m)\u001b[0m\u001b[1;33m)\u001b[0m\u001b[1;33m\u001b[0m\u001b[1;33m\u001b[0m\u001b[0m\n\u001b[0;32m     30\u001b[0m     \u001b[0mbit2\u001b[0m\u001b[1;33m=\u001b[0m\u001b[0mint\u001b[0m\u001b[1;33m(\u001b[0m\u001b[0minput\u001b[0m\u001b[1;33m(\u001b[0m\u001b[1;34m\"player two,enter the secret bit position\"\u001b[0m\u001b[1;33m)\u001b[0m\u001b[1;33m)\u001b[0m\u001b[1;33m\u001b[0m\u001b[1;33m\u001b[0m\u001b[0m\n\u001b[1;32m---> 31\u001b[1;33m     \u001b[0mrock_paper_scissor\u001b[0m\u001b[1;33m(\u001b[0m\u001b[0mnum1\u001b[0m\u001b[1;33m,\u001b[0m\u001b[0mnum2\u001b[0m\u001b[1;33m,\u001b[0m\u001b[0mbit1\u001b[0m\u001b[1;33m,\u001b[0m\u001b[0mbit2\u001b[0m\u001b[1;33m)\u001b[0m\u001b[1;33m\u001b[0m\u001b[1;33m\u001b[0m\u001b[0m\n\u001b[0m",
      "\u001b[1;32m~\\AppData\\Local\\Temp\\ipykernel_9660\\1080115274.py\u001b[0m in \u001b[0;36mrock_paper_scissor\u001b[1;34m(num1, num2, bit1, bit2)\u001b[0m\n\u001b[0;32m      1\u001b[0m \u001b[1;32mdef\u001b[0m \u001b[0mrock_paper_scissor\u001b[0m\u001b[1;33m(\u001b[0m\u001b[0mnum1\u001b[0m\u001b[1;33m,\u001b[0m\u001b[0mnum2\u001b[0m\u001b[1;33m,\u001b[0m\u001b[0mbit1\u001b[0m\u001b[1;33m,\u001b[0m\u001b[0mbit2\u001b[0m\u001b[1;33m)\u001b[0m\u001b[1;33m:\u001b[0m\u001b[1;33m\u001b[0m\u001b[1;33m\u001b[0m\u001b[0m\n\u001b[1;32m----> 2\u001b[1;33m     \u001b[0mp1\u001b[0m\u001b[1;33m=\u001b[0m\u001b[0mint\u001b[0m\u001b[1;33m(\u001b[0m\u001b[0mnum1\u001b[0m\u001b[1;33m[\u001b[0m\u001b[0mbit1\u001b[0m\u001b[1;33m]\u001b[0m\u001b[1;33m)\u001b[0m\u001b[1;33m%\u001b[0m\u001b[1;36m3\u001b[0m\u001b[1;33m\u001b[0m\u001b[1;33m\u001b[0m\u001b[0m\n\u001b[0m\u001b[0;32m      3\u001b[0m     \u001b[0mp2\u001b[0m\u001b[1;33m=\u001b[0m\u001b[0mint\u001b[0m\u001b[1;33m(\u001b[0m\u001b[0mnum2\u001b[0m\u001b[1;33m[\u001b[0m\u001b[0mbit2\u001b[0m\u001b[1;33m]\u001b[0m\u001b[1;33m)\u001b[0m\u001b[1;33m%\u001b[0m\u001b[1;36m3\u001b[0m\u001b[1;33m\u001b[0m\u001b[1;33m\u001b[0m\u001b[0m\n\u001b[0;32m      4\u001b[0m     \u001b[1;32mif\u001b[0m\u001b[1;33m(\u001b[0m\u001b[0mplayer_one\u001b[0m\u001b[1;33m[\u001b[0m\u001b[0mp1\u001b[0m\u001b[1;33m]\u001b[0m\u001b[1;33m==\u001b[0m\u001b[0mplayer_two\u001b[0m\u001b[1;33m[\u001b[0m\u001b[0mp2\u001b[0m\u001b[1;33m]\u001b[0m\u001b[1;33m)\u001b[0m\u001b[1;33m:\u001b[0m\u001b[1;33m\u001b[0m\u001b[1;33m\u001b[0m\u001b[0m\n\u001b[0;32m      5\u001b[0m         \u001b[0mprint\u001b[0m\u001b[1;33m(\u001b[0m\u001b[1;34m\"Draw\"\u001b[0m\u001b[1;33m)\u001b[0m\u001b[1;33m\u001b[0m\u001b[1;33m\u001b[0m\u001b[0m\n",
      "\u001b[1;31mIndexError\u001b[0m: string index out of range"
     ]
    }
   ],
   "source": [
    "def rock_paper_scissor(num1,num2,bit1,bit2):\n",
    "    p1=int(num1[bit1])%3\n",
    "    p2=int(num2[bit2])%3\n",
    "    if(player_one[p1]==player_two[p2]):\n",
    "        print(\"Draw\")\n",
    "    elif(player_one[p1]==\"Rock\"and player_two[p2]=='scissor'):\n",
    "        print(\"player_1 wins\")\n",
    "    elif(player_one[p1]==\"Rock\"and player_two[p2]==\"Paper\"):\n",
    "        print(\"player two wins\")\n",
    "    elif(player_one[p1]==\"Paper\"and player_two[p2]==\"Scissor\"):\n",
    "        print(\"player two wins\")\n",
    "    elif(player_one[p1]=='paper'and player_two[p2]==\"Rock\"):\n",
    "        print(\"player one wins\")\n",
    "    elif(player_one[p1]==\"Scissor\"and player_two[p2]==\"Rock\"):\n",
    "        print(\"Player two wins\")\n",
    "    elif(player_one[p1]==\"Scissor\"and player_two[p2]=='Ppaer'):\n",
    "        print(\"player one wins\")\n",
    "        \n",
    "                    \n",
    "            \n",
    "        \n",
    "        \n",
    "    \n",
    "player_one={0:\"Rock\",1:\"Paper\",2:\"Scissor\"}\n",
    "player_two={0:\"Paper\",1:\"Rock\",2:\"Scissor\"} \n",
    "while(1):\n",
    "    num1=input(\"Player one,enter your choice \")\n",
    "    num2=input(\"Player one,enter your choice \")\n",
    "    bit1=int(input(\"plyaer one,enter the secret bit position\"))\n",
    "    bit2=int(input(\"player two,enter the secret bit position\"))\n",
    "    rock_paper_scissor(num1,num2,bit1,bit2)"
   ]
  }
 ],
 "metadata": {
  "kernelspec": {
   "display_name": "Python 3 (ipykernel)",
   "language": "python",
   "name": "python3"
  },
  "language_info": {
   "codemirror_mode": {
    "name": "ipython",
    "version": 3
   },
   "file_extension": ".py",
   "mimetype": "text/x-python",
   "name": "python",
   "nbconvert_exporter": "python",
   "pygments_lexer": "ipython3",
   "version": "3.9.13"
  }
 },
 "nbformat": 4,
 "nbformat_minor": 5
}
